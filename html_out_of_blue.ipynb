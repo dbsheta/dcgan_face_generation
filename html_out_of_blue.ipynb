{
 "cells": [
  {
   "cell_type": "markdown",
   "metadata": {},
   "source": [
    "# Generate HTML from Noise"
   ]
  },
  {
   "cell_type": "code",
   "execution_count": 1,
   "metadata": {
    "collapsed": true
   },
   "outputs": [],
   "source": [
    "import os\n",
    "import matplotlib as mpl\n",
    "import tarfile\n",
    "import matplotlib.image as mpimg\n",
    "from matplotlib import pyplot as plt\n",
    "import time\n",
    "import math\n",
    "%matplotlib inline\n",
    "\n",
    "import mxnet as mx\n",
    "from mxnet import gluon\n",
    "from mxnet import ndarray as nd\n",
    "from mxnet.gluon import nn, utils\n",
    "from mxnet import autograd\n",
    "import numpy as np\n",
    "import pickle"
   ]
  },
  {
   "cell_type": "code",
   "execution_count": 2,
   "metadata": {
    "collapsed": true
   },
   "outputs": [],
   "source": [
    "def time_since(start):\n",
    "    now = time.time()\n",
    "    s = now - start\n",
    "    m = math.floor(s / 60)\n",
    "    s -= m * 60\n",
    "    return '%dm %ds' % (m, s)"
   ]
  },
  {
   "cell_type": "code",
   "execution_count": null,
   "metadata": {
    "collapsed": true
   },
   "outputs": [],
   "source": [
    "data_path = \"C:/Users/dhoomil.sheta/Downloads/Pix2Code Data/web/all_data\"\n",
    "\n",
    "epochs = 10 # Set low by default for tests, set higher when you actually run this code.\n",
    "batch_size = 64\n",
    "latent_z_size = 100\n",
    "# img_dims = 64\n",
    "img_dims = 256\n",
    "\n",
    "use_gpu = False\n",
    "ctx = mx.gpu() if use_gpu else mx.cpu()\n",
    "\n",
    "lr = 0.0002\n",
    "beta1 = 0.5"
   ]
  },
  {
   "cell_type": "markdown",
   "metadata": {},
   "source": [
    "### Preprocess Data"
   ]
  },
  {
   "cell_type": "code",
   "execution_count": null,
   "metadata": {
    "collapsed": true
   },
   "outputs": [],
   "source": [
    "def transform(data, dims):\n",
    "    data = mx.image.imresize(data, dims, dims)\n",
    "    data = nd.transpose(data, (2,0,1))\n",
    "    # normalize to [-1, 1]\n",
    "    data = data.astype(np.float32)/127.5 - 1\n",
    "    # if image is greyscale, repeat 3 times to get RGB image.\n",
    "    if data.shape[0] == 1:\n",
    "        data = nd.tile(data, (3, 1, 1))\n",
    "    return data.reshape((1,) + data.shape)"
   ]
  },
  {
   "cell_type": "code",
   "execution_count": null,
   "metadata": {
    "collapsed": true
   },
   "outputs": [],
   "source": [
    "img_list = []\n",
    "for fname in os.listdir(data_path):\n",
    "    if not fname.endswith('.png'):\n",
    "        continue\n",
    "    img = os.path.join(data_path, fname)\n",
    "    img_arr = mx.image.imread(img)\n",
    "    img_arr = transform(img_arr, img_dims)\n",
    "    img_list.append(img_arr)"
   ]
  },
  {
   "cell_type": "code",
   "execution_count": null,
   "metadata": {
    "collapsed": true
   },
   "outputs": [],
   "source": [
    "train_iter = mx.image.ImageIter"
   ]
  },
  {
   "cell_type": "markdown",
   "metadata": {},
   "source": [
    "### Load Data"
   ]
  },
  {
   "cell_type": "code",
   "execution_count": null,
   "metadata": {},
   "outputs": [],
   "source": [
    "# with open(\"web_ui.pkl\", \"rb\") as f:\n",
    "#     img_list = pickle.load(f)\n",
    "\n",
    "# print(f\"Total {len(img_list)} HTML pages in dataset\")\n",
    "# print(f\"Shape of data {img_list[0].shape}\")"
   ]
  },
  {
   "cell_type": "code",
   "execution_count": null,
   "metadata": {},
   "outputs": [],
   "source": [
    "train_data = mx.io.NDArrayIter(data=nd.concatenate(img_list), batch_size=batch_size, shuffle=True)\n",
    "print(train_data.provide_data)"
   ]
  },
  {
   "cell_type": "markdown",
   "metadata": {},
   "source": [
    "### Build the generator"
   ]
  },
  {
   "cell_type": "code",
   "execution_count": null,
   "metadata": {
    "collapsed": true
   },
   "outputs": [],
   "source": [
    "n_channels = 3\n",
    "n_filters_g = 64\n",
    "generator = nn.HybridSequential()\n",
    "with generator.name_scope():\n",
    "    # input is Z, going into a convolution\n",
    "    generator.add(nn.Conv2DTranspose(n_filters_g * 8, 4, 1, 0, use_bias=False))\n",
    "    generator.add(nn.BatchNorm())\n",
    "    generator.add(nn.Activation('relu'))\n",
    "    # state size. (n_filters_g*8) x 4 x 4\n",
    "    generator.add(nn.Conv2DTranspose(n_filters_g * 4, 4, 2, 1, use_bias=False))\n",
    "    generator.add(nn.BatchNorm())\n",
    "    generator.add(nn.Activation('relu'))\n",
    "    # state size. (n_filters_g*8) x 8 x 8\n",
    "    generator.add(nn.Conv2DTranspose(n_filters_g * 2, 4, 2, 1, use_bias=False))\n",
    "    generator.add(nn.BatchNorm())\n",
    "    generator.add(nn.Activation('relu'))\n",
    "    # state size. (n_filters_g*8) x 16 x 16\n",
    "    generator.add(nn.Conv2DTranspose(n_filters_g, 4, 2, 1, use_bias=False))\n",
    "    generator.add(nn.BatchNorm())\n",
    "    generator.add(nn.Activation('relu'))\n",
    "    # state size. (n_filters_g*8) x 32 x 32\n",
    "    generator.add(nn.Conv2DTranspose(n_channels, 4, 2, 1, use_bias=False))\n",
    "    generator.add(nn.Activation('tanh'))\n",
    "    # state size. (nc) x 64 x 64"
   ]
  },
  {
   "cell_type": "markdown",
   "metadata": {},
   "source": [
    "### Build the discriminator"
   ]
  },
  {
   "cell_type": "code",
   "execution_count": null,
   "metadata": {
    "collapsed": true
   },
   "outputs": [],
   "source": [
    "n_filters_d = 64\n",
    "discriminator = nn.HybridSequential()\n",
    "with discriminator.name_scope():\n",
    "    # input is (nc) x 64 x 64\n",
    "    discriminator.add(nn.Conv2D(n_filters_d, 4, 2, 1, use_bias=False))\n",
    "    discriminator.add(nn.LeakyReLU(0.2))\n",
    "    # state size. (n_filters_d) x 32 x 32\n",
    "    discriminator.add(nn.Conv2D(n_filters_d * 2, 4, 2, 1, use_bias=False))\n",
    "    discriminator.add(nn.BatchNorm())\n",
    "    discriminator.add(nn.LeakyReLU(0.2))\n",
    "    # state size. (n_filters_d) x 16 x 16\n",
    "    discriminator.add(nn.Conv2D(n_filters_d * 4, 4, 2, 1, use_bias=False))\n",
    "    discriminator.add(nn.BatchNorm())\n",
    "    discriminator.add(nn.LeakyReLU(0.2))\n",
    "    # state size. (n_filters_d) x 8 x 8\n",
    "    discriminator.add(nn.Conv2D(n_filters_d * 8, 4, 2, 1, use_bias=False))\n",
    "    discriminator.add(nn.BatchNorm())\n",
    "    discriminator.add(nn.LeakyReLU(0.2))\n",
    "    # state size. (n_filters_d) x 4 x 4\n",
    "    discriminator.add(nn.Conv2D(1, 4, 1, 0, use_bias=False))"
   ]
  },
  {
   "cell_type": "code",
   "execution_count": null,
   "metadata": {
    "collapsed": true
   },
   "outputs": [],
   "source": [
    "# loss\n",
    "loss = gluon.loss.SigmoidBinaryCrossEntropyLoss()\n",
    "\n",
    "# initialize the generator and the discriminator\n",
    "# generator.initialize(mx.init.Normal(0.02), ctx=ctx)\n",
    "# discriminator.initialize(mx.init.Normal(0.02), ctx=ctx)\n",
    "\n",
    "# trainer for the generator and the discriminator\n",
    "trainerG = gluon.Trainer(generator.collect_params(), 'adam', {'learning_rate': lr, 'beta1': beta1})\n",
    "trainerD = gluon.Trainer(discriminator.collect_params(), 'adam', {'learning_rate': lr, 'beta1': beta1})"
   ]
  },
  {
   "cell_type": "code",
   "execution_count": null,
   "metadata": {
    "collapsed": true
   },
   "outputs": [],
   "source": [
    "real_label = nd.ones((batch_size,), ctx=ctx)\n",
    "fake_label = nd.zeros((batch_size,),ctx=ctx)\n",
    "\n",
    "def facc(label, pred):\n",
    "    pred = pred.ravel()\n",
    "    label = label.ravel()\n",
    "    return ((pred > 0.5) == label).mean()\n",
    "\n",
    "metric = mx.metric.CustomMetric(facc)"
   ]
  },
  {
   "cell_type": "code",
   "execution_count": null,
   "metadata": {
    "collapsed": true
   },
   "outputs": [],
   "source": [
    "def train(epochs):\n",
    "    print(f\"Training for {epochs} epochs...\")\n",
    "    start = time.time()\n",
    "    for epoch in range(epochs):\n",
    "        train_data.reset()\n",
    "        iteration = 0\n",
    "        for batch in train_data:\n",
    "            ############################\n",
    "            # (1) Update D network: maximize log(D(x)) + log(1 - D(G(z)))\n",
    "            ###########################\n",
    "            data = batch.data[0].as_in_context(ctx)\n",
    "            latent_z = mx.nd.random_normal(0, 1, shape=(batch_size, latent_z_size, 1, 1), ctx=ctx)\n",
    "\n",
    "            with autograd.record():\n",
    "                # train with real image\n",
    "                output = discriminator(data).reshape((-1, 1))\n",
    "                errD_real = loss(output, real_label)\n",
    "                metric.update([real_label,], [output,])\n",
    "\n",
    "                # train with fake image\n",
    "                fake = generator(latent_z)\n",
    "                output = discriminator(fake).reshape((-1, 1))\n",
    "                errD_fake = loss(output, fake_label)\n",
    "                errD = errD_real + errD_fake\n",
    "                errD.backward()\n",
    "                metric.update([fake_label,], [output,])\n",
    "\n",
    "            trainerD.step(batch.data[0].shape[0])\n",
    "\n",
    "            ############################\n",
    "            # (2) Update G network: maximize log(D(G(z)))\n",
    "            ###########################\n",
    "            with autograd.record():\n",
    "                fake = generator(latent_z)\n",
    "                output = discriminator(fake).reshape((-1, 1))\n",
    "                errG = loss(output, real_label)\n",
    "                errG.backward()\n",
    "\n",
    "            trainerG.step(batch.data[0].shape[0])\n",
    "\n",
    "#             if iteration % 50 == 0:\n",
    "#                 name, acc = metric.get()\n",
    "                \n",
    "\n",
    "        iteration = iteration + 1\n",
    "        name, acc = metric.get()\n",
    "        print(f'epoch {epoch}: iter {iteration} d_loss = {nd.mean(errD).asscalar()}, generator loss = {nd.mean(errG).asscalar()}, training acc = {acc}')\n",
    "        print(f\"Time: {time_since(start)}\")\n",
    "        metric.reset()\n",
    "    print(f\"Time: {time_since(start)}\")"
   ]
  },
  {
   "cell_type": "code",
   "execution_count": null,
   "metadata": {
    "collapsed": true,
    "scrolled": false
   },
   "outputs": [],
   "source": [
    "train(20)"
   ]
  },
  {
   "cell_type": "code",
   "execution_count": null,
   "metadata": {
    "collapsed": true
   },
   "outputs": [],
   "source": [
    "generator.save_params(filename=\"dcgan_g_faces\")\n",
    "discriminator.save_params(filename=\"dcgan_d_faces\")"
   ]
  },
  {
   "cell_type": "code",
   "execution_count": null,
   "metadata": {
    "collapsed": true
   },
   "outputs": [],
   "source": [
    "generator.load_params(filename=\"dcgan_g\", ctx=ctx)\n",
    "discriminator.load_params(filename=\"dcgan_d\", ctx=ctx)"
   ]
  },
  {
   "cell_type": "code",
   "execution_count": null,
   "metadata": {},
   "outputs": [],
   "source": [
    "plt.figure(figsize=(20,20))\n",
    "\n",
    "def visualize(img_arr):\n",
    "    plt.imshow(((img_arr.asnumpy().transpose(1, 2, 0) + 1.0) * 127.5).astype(np.uint8))\n",
    "    plt.axis('off')"
   ]
  },
  {
   "cell_type": "code",
   "execution_count": null,
   "metadata": {
    "collapsed": true
   },
   "outputs": [],
   "source": [
    "def vis():\n",
    "    plt.figure(figsize=(64,64))\n",
    "    num_image = 12\n",
    "    latent_z = mx.nd.random_normal(0, 1, shape=(1, latent_z_size, 1, 1), ctx=ctx)\n",
    "    step = 0.05\n",
    "    for i in range(num_image):\n",
    "        img = generator(latent_z)\n",
    "        plt.subplot(4, 3,i+1)\n",
    "        visualize(img[0])\n",
    "        latent_z += 0.05\n",
    "    plt.show()"
   ]
  },
  {
   "cell_type": "code",
   "execution_count": null,
   "metadata": {},
   "outputs": [],
   "source": [
    "vis()"
   ]
  },
  {
   "cell_type": "code",
   "execution_count": null,
   "metadata": {
    "collapsed": true
   },
   "outputs": [],
   "source": [
    "train(20)"
   ]
  },
  {
   "cell_type": "code",
   "execution_count": null,
   "metadata": {
    "collapsed": true
   },
   "outputs": [],
   "source": [
    "ndf = 64\n",
    "no_bias = True\n",
    "fix_gamma = True\n",
    "eps=1e-5 + 1e-12"
   ]
  },
  {
   "cell_type": "code",
   "execution_count": null,
   "metadata": {
    "collapsed": true
   },
   "outputs": [],
   "source": [
    "from PIL import Image"
   ]
  },
  {
   "cell_type": "code",
   "execution_count": null,
   "metadata": {
    "collapsed": true
   },
   "outputs": [],
   "source": [
    "img_names = filter(lambda x: 'png' in x, os.listdir(data_path))\n",
    "img = Image.open(os.path.join(data_path, next(img_names)))"
   ]
  },
  {
   "cell_type": "code",
   "execution_count": null,
   "metadata": {
    "collapsed": true
   },
   "outputs": [],
   "source": [
    "img64 = img.resize([64, 64], Image.ANTIALIAS)\n",
    "img128 = img.resize([128, 128], Image.ANTIALIAS)\n",
    "img256 = img.resize([256, 256], Image.ANTIALIAS)"
   ]
  },
  {
   "cell_type": "code",
   "execution_count": null,
   "metadata": {
    "collapsed": true
   },
   "outputs": [],
   "source": []
  },
  {
   "cell_type": "code",
   "execution_count": null,
   "metadata": {
    "collapsed": true
   },
   "outputs": [],
   "source": []
  }
 ],
 "metadata": {
  "kernelspec": {
   "display_name": "Python 3",
   "language": "python",
   "name": "python3"
  },
  "language_info": {
   "codemirror_mode": {
    "name": "ipython",
    "version": 3
   },
   "file_extension": ".py",
   "mimetype": "text/x-python",
   "name": "python",
   "nbconvert_exporter": "python",
   "pygments_lexer": "ipython3",
   "version": "3.6.2"
  }
 },
 "nbformat": 4,
 "nbformat_minor": 2
}
